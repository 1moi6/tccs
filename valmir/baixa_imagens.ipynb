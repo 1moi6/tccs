{
 "cells": [
  {
   "cell_type": "code",
   "execution_count": 1,
   "metadata": {},
   "outputs": [],
   "source": [
    "import ee\n",
    "import geemap\n",
    "ee.Initialize(project='black-journal-422700-v1')"
   ]
  },
  {
   "cell_type": "code",
   "execution_count": null,
   "metadata": {},
   "outputs": [],
   "source": [
    "# Inicializar a API do Earth Engine\n",
    "\n",
    "# Definir a geometria da área de interesse (Polygon)\n",
    "geometry = ee.Geometry.Polygon(\n",
    "    [[[-56.19933935093308, -15.570030087161426],\n",
    "      [-56.236418208354955, -15.63616420965171],\n",
    "      [-56.173246821636205, -15.75515175246836],\n",
    "      [-56.110075434917455, -15.760438474073672],\n",
    "      [-56.079863032573705, -15.701615952093842],\n",
    "      [-56.002958735698705, -15.706243058621192],\n",
    "      [-55.91712804722214, -15.675173328966476],\n",
    "      [-55.92468114780808, -15.622277812891932],\n",
    "      [-55.98510595249558, -15.587888400489534],\n",
    "      [-56.00982519077683, -15.527031492578372],\n",
    "      [-56.052397212261205, -15.503213026342152],\n",
    "      [-56.09290929722214, -15.518430696875168],\n",
    "      [-56.13616796421433, -15.537616594867629]]])\n",
    "\n",
    "# Filtrar coleção Landsat 8 para o período desejado\n",
    "sr_landsat = ee.ImageCollection(\"LANDSAT/LC08/C02/T1_L2\") \\\n",
    "    .filterBounds(geometry) \\\n",
    "    .filterDate('2024-01-01', '2024-12-31') \\\n",
    "    .filterMetadata('CLOUD_COVER', 'less_than', 30)\n",
    "\n",
    "# Selecionar a imagem com menos nuvens\n",
    "image = sr_landsat.sort('CLOUD_COVER').first()\n",
    "\n",
    "# Selecionar bandas específicas\n",
    "img_selec = image.select(['SR_B1', 'SR_B2', 'SR_B3', 'SR_B4', 'SR_B5', 'SR_B6', 'SR_B7'])\n",
    "\n",
    "# Definir o nome do arquivo de saída\n",
    "output_filename = \"L8_OLI_2024.tif\"\n",
    "\n",
    "# Fazer o download da imagem para o computador\n",
    "geemap.ee_export_image(img_selec, filename=output_filename, scale=30, region=geometry)\n",
    "\n",
    "print(f\"Imagem Landsat 8 baixada com sucesso como {output_filename}\")\n"
   ]
  }
 ],
 "metadata": {
  "kernelspec": {
   "display_name": "ambiente",
   "language": "python",
   "name": "python3"
  },
  "language_info": {
   "codemirror_mode": {
    "name": "ipython",
    "version": 3
   },
   "file_extension": ".py",
   "mimetype": "text/x-python",
   "name": "python",
   "nbconvert_exporter": "python",
   "pygments_lexer": "ipython3",
   "version": "3.11.9"
  }
 },
 "nbformat": 4,
 "nbformat_minor": 2
}

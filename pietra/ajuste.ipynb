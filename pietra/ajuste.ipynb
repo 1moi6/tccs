{
 "cells": [
  {
   "cell_type": "code",
   "execution_count": null,
   "metadata": {},
   "outputs": [],
   "source": [
    "import warnings\n",
    "warnings.filterwarnings('ignore')\n",
    "\n",
    "import pandas as pd\n",
    "import matplotlib.pyplot as plt\n",
    "# import geopandas as gpd\n",
    "import numpy as np\n",
    "from time import time\n",
    "from geopy.distance import geodesic\n",
    "%matplotlib widget\n",
    "from scipy.spatial import Delaunay\n",
    "import random"
   ]
  },
  {
   "cell_type": "code",
   "execution_count": null,
   "metadata": {},
   "outputs": [],
   "source": [
    "dados = pd.read_csv(\"ocorrencias.csv\")\n",
    "data = dados[dados.columns[[0,1,5,13,-2]]]\n",
    "data.dropna(inplace=True)\n",
    "fatores = data.drop([\"ocorrências\"],axis=1)\n",
    "target = data[[\"ocorrências\"]].replace({2:1})"
   ]
  },
  {
   "cell_type": "code",
   "execution_count": null,
   "metadata": {},
   "outputs": [],
   "source": [
    "target.value_counts()"
   ]
  },
  {
   "cell_type": "markdown",
   "metadata": {},
   "source": [
    "#### Ajustes"
   ]
  },
  {
   "cell_type": "code",
   "execution_count": null,
   "metadata": {},
   "outputs": [],
   "source": [
    "## biblioteca de modelos\n",
    "from itertools import product\n",
    "from logging import raiseExceptions\n",
    "from sklearn.metrics import roc_auc_score, roc_curve,  accuracy_score, precision_score, recall_score, f1_score, confusion_matrix\n",
    "from sklearn.model_selection import train_test_split, GridSearchCV\n",
    "from sklearn.preprocessing import MinMaxScaler, StandardScaler\n",
    "from sklearn.linear_model import LogisticRegression, LinearRegression\n",
    "from sklearn.feature_selection import RFECV\n",
    "from sklearn.pipeline import Pipeline\n"
   ]
  },
  {
   "cell_type": "code",
   "execution_count": null,
   "metadata": {},
   "outputs": [],
   "source": [
    "model = LogisticRegression(class_weight='balanced',max_iter=100000)\n",
    "pipe = Pipeline([('escala',StandardScaler()),('modelo',model)])\n",
    "X_train,X_test,y_train,y_test = train_test_split(fatores,target,test_size=0.3,stratify=target)\n",
    "pipe.fit(X_train,y_train)\n",
    "y_pred = pipe.predict_proba(X_test)[:,1]"
   ]
  },
  {
   "cell_type": "code",
   "execution_count": null,
   "metadata": {},
   "outputs": [],
   "source": [
    "roc_auc_score(y_test,y_pred)"
   ]
  },
  {
   "cell_type": "code",
   "execution_count": null,
   "metadata": {},
   "outputs": [],
   "source": [
    "scores = []\n",
    "coefs = []\n",
    "model = LogisticRegression(class_weight='balanced',max_iter=100000)\n",
    "pipe = Pipeline([('escala',StandardScaler()),('modelo',model)])\n",
    "for i in range(100):\n",
    "    X_train,X_test,y_train,y_test = train_test_split(fatores,target,test_size=0.3,stratify=target)\n",
    "    pipe.fit(X_train,y_train)\n",
    "    y_pred = pipe.predict_proba(X_test)[:,1]\n",
    "    scores.append(roc_auc_score(y_test,y_pred))\n",
    "    coefs.append(pipe.named_steps[\"modelo\"].coef_)\n"
   ]
  },
  {
   "cell_type": "code",
   "execution_count": null,
   "metadata": {},
   "outputs": [],
   "source": [
    "fig,ax = plt.subplots()\n",
    "ax.hist(scores)\n",
    "plt.show()"
   ]
  },
  {
   "cell_type": "code",
   "execution_count": null,
   "metadata": {},
   "outputs": [],
   "source": [
    "fpr, tpr, thresholds = roc_curve(y_test, y_pred)\n",
    "fig,ax = plt.subplots()\n",
    "\n",
    "# Plotar a curva ROC\n",
    "ax.plot(fpr, tpr, label='Curva ROC')\n",
    "ax.plot([0, 1], [0, 1], linestyle='--', label='Linha de Referência')\n",
    "plt.xlabel('Taxa de Falso Positivo (FPR)')\n",
    "plt.ylabel('Taxa de Verdadeiro Positivo (TPR)')\n",
    "plt.title('Curva ROC')\n",
    "plt.legend()\n",
    "plt.show()"
   ]
  },
  {
   "cell_type": "code",
   "execution_count": null,
   "metadata": {},
   "outputs": [],
   "source": [
    "pd.DataFrame(matriz).boxplot()"
   ]
  },
  {
   "cell_type": "code",
   "execution_count": null,
   "metadata": {},
   "outputs": [],
   "source": [
    "matriz = np.concatenate(coefs, axis=0)\n",
    "# media_colunas = \n",
    "coeficientes = np.mean(matriz, axis=0)\n",
    "cores = ['blue' if coef > 0 else 'red' for coef in coeficientes]\n",
    "\n",
    "# Criando o gráfico de barras\n",
    "fig,ax = plt.subplots()\n",
    "ax.barh(range(len(coeficientes)), coeficientes, color=cores)\n",
    "\n",
    "# Adicionando título e rótulos\n",
    "# plt.title('Coeficientes')\n",
    "plt.ylabel('Fatores')\n",
    "plt.xlabel('Valor do Coeficiente')\n",
    "\n",
    "labels_x = [f'{x.split(\" \")[0][:4]} {x.split(\" \")[1][:3]}' if len(x.split(\" \")) >2 else f'{x[:4]} ' for x in fatores.columns.to_list()]\n",
    "\n",
    "ax.set_yticks(range(len(labels_x)))\n",
    "# ax.set_yticklabels(labels_x)\n",
    "ax.set_yticklabels(['Precipitação', 'Pressão','Temperatura','Umidade'])\n",
    "\n",
    "for i, coef in enumerate(coeficientes):\n",
    "    if coef<0: \n",
    "        lado = 'left'\n",
    "    else:\n",
    "        lado='right'\n",
    "\n",
    "    plt.text(coef, i, f'{coef:.2f}', ha=lado, va='center',fontsize=10, color='white', weight='bold')\n",
    "\n",
    "# Exibindo o gráfico\n",
    "plt.show()"
   ]
  },
  {
   "cell_type": "code",
   "execution_count": null,
   "metadata": {},
   "outputs": [],
   "source": [
    "ax.set_yticklabels(['Precipitação', 'Pressão','Temperatura','Umidade'])"
   ]
  },
  {
   "cell_type": "code",
   "execution_count": null,
   "metadata": {},
   "outputs": [],
   "source": [
    "medias_colunas_df1 = []\n",
    "medias_colunas_df2 = []\n",
    "\n",
    "for _ in range(10000):\n",
    "    indices_amostra = X_train.index.tolist()\n",
    "    amostra_indices = pd.Series(indices_amostra).sample(n=int(0.5*len(indices_amostra)),replace=True)\n",
    "    media_amostra_df1 = X_train.loc[amostra_indices].mean(axis=0)\n",
    "    media_amostra_df2 = y_train.loc[amostra_indices].mean(axis=0)\n",
    "    medias_colunas_df1.append(media_amostra_df1)\n",
    "    medias_colunas_df2.append(media_amostra_df2)\n",
    "\n",
    "medias_df1 = pd.DataFrame(medias_colunas_df1)\n",
    "medias_df2 = pd.DataFrame(medias_colunas_df2)"
   ]
  },
  {
   "cell_type": "code",
   "execution_count": null,
   "metadata": {},
   "outputs": [],
   "source": [
    "model = LinearRegression()\n",
    "pipe = Pipeline([('escala',StandardScaler()),('modelo',model)])\n",
    "pipe.fit(medias_df1,medias_df2)\n",
    "y_score = pipe.predict(X_test)\n",
    "y_score = [v[0] for v in y_score]"
   ]
  },
  {
   "cell_type": "code",
   "execution_count": null,
   "metadata": {},
   "outputs": [],
   "source": [
    "\n",
    "y_pred = [np.exp(x)/(1+np.exp(x)) for x in y_score]"
   ]
  },
  {
   "cell_type": "code",
   "execution_count": null,
   "metadata": {},
   "outputs": [],
   "source": [
    "fpr, tpr, thresholds = roc_curve(y_test, y_pred)\n",
    "fig,ax = plt.subplots()\n",
    "\n",
    "# Plotar a curva ROC\n",
    "ax.plot(fpr, tpr, label='Curva ROC')\n",
    "ax.plot([0, 1], [0, 1], linestyle='--', label='Linha de Referência')\n",
    "plt.xlabel('Taxa de Falso Positivo (FPR)')\n",
    "plt.ylabel('Taxa de Verdadeiro Positivo (TPR)')\n",
    "plt.title('Curva ROC')\n",
    "plt.legend()\n",
    "plt.show()"
   ]
  },
  {
   "cell_type": "code",
   "execution_count": null,
   "metadata": {},
   "outputs": [],
   "source": [
    "roc_auc_score(y_test,y_pred)"
   ]
  },
  {
   "cell_type": "code",
   "execution_count": null,
   "metadata": {},
   "outputs": [],
   "source": [
    "model2 = LogisticRegression(class_weight='balanced',max_iter=100000)\n",
    "pipe2 = Pipeline([('escala',StandardScaler()),('modelo',model2)])\n",
    "# X_train,X_test,y_train,y_test = train_test_split(fatores,target,test_size=0.3,stratify=target)\n",
    "pipe2.fit(X_train,y_train)\n",
    "y_pred2 = pipe2.predict_proba(X_test)[:,1]"
   ]
  },
  {
   "cell_type": "code",
   "execution_count": null,
   "metadata": {},
   "outputs": [],
   "source": [
    "fpr, tpr, thresholds = roc_curve(y_test, y_pred2)\n",
    "fig,ax = plt.subplots()\n",
    "\n",
    "# Plotar a curva ROC\n",
    "ax.plot(fpr, tpr, label='Curva ROC')\n",
    "ax.plot([0, 1], [0, 1], linestyle='--', label='Linha de Referência')\n",
    "plt.xlabel('Taxa de Falso Positivo (FPR)')\n",
    "plt.ylabel('Taxa de Verdadeiro Positivo (TPR)')\n",
    "plt.title('Curva ROC')\n",
    "plt.legend()\n",
    "plt.show()"
   ]
  },
  {
   "cell_type": "code",
   "execution_count": null,
   "metadata": {},
   "outputs": [],
   "source": [
    "pipe.named_steps[\"modelo\"].coef_"
   ]
  }
 ],
 "metadata": {
  "kernelspec": {
   "display_name": "basico",
   "language": "python",
   "name": "python3"
  },
  "language_info": {
   "codemirror_mode": {
    "name": "ipython",
    "version": 3
   },
   "file_extension": ".py",
   "mimetype": "text/x-python",
   "name": "python",
   "nbconvert_exporter": "python",
   "pygments_lexer": "ipython3",
   "version": "3.10.8"
  }
 },
 "nbformat": 4,
 "nbformat_minor": 2
}
